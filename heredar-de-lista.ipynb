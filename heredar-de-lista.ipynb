{
  "cells": [
    {
      "cell_type": "markdown",
      "metadata": {
        "id": "tzfXSF264fWl"
      },
      "source": [
        "Herencia\n",
        "========\n",
        "\n",
        "**Date:** 2023-09-11\n",
        "\n"
      ]
    },
    {
      "cell_type": "markdown",
      "metadata": {
        "id": "UCJhg9ec4fWl"
      },
      "source": [
        "Queremos mostrar cómo heredar a partir de una clase estándar, añadiendo algún método propio.\n",
        "\n",
        "Esto se puede hacer de la siguiente manera.\n",
        "\n"
      ]
    },
    {
      "cell_type": "code",
      "execution_count": null,
      "metadata": {
        "id": "XFiOsN6I4fWm",
        "outputId": "9256ca9a-697c-4d7b-a9f9-af491fda217a"
      },
      "outputs": [
        {
          "data": {
            "text/plain": [
              "([1, 2, 3], 'Pepe')"
            ]
          },
          "execution_count": 1,
          "metadata": {},
          "output_type": "execute_result"
        }
      ],
      "source": [
        "class MiLista(list):\n",
        "    def nombre(self, name):\n",
        "        self.name = name\n",
        "\n",
        "a = MiLista([1,2,3])\n",
        "a.nombre(\"Pepe\")\n",
        "a, a.name"
      ]
    },
    {
      "cell_type": "markdown",
      "metadata": {
        "id": "n_ETfSr74fWn"
      },
      "source": [
        "Pero si queremos definir un nuevo atributo a partir de la función inicializadora, podemos hacer como sigue:\n",
        "\n"
      ]
    },
    {
      "cell_type": "code",
      "execution_count": null,
      "metadata": {
        "id": "3oY4Fr8X4fWn",
        "outputId": "c73d5b2e-24f9-4874-a6e7-34a2a4604b05"
      },
      "outputs": [
        {
          "data": {
            "text/plain": [
              "([1, 2, 3], 'Pepe')"
            ]
          },
          "execution_count": 2,
          "metadata": {},
          "output_type": "execute_result"
        }
      ],
      "source": [
        "class MiLista(list):\n",
        "    def __init__(self, elementos, nombre):\n",
        "        super().__init__(elementos)\n",
        "        self.name = nombre\n",
        "\n",
        "a = MiLista([1,2,3], \"Pepe\")\n",
        "a, a.name"
      ]
    },
    {
      "cell_type": "markdown",
      "metadata": {
        "id": "QDdtgsST4fWo"
      },
      "source": [
        "Comprobemos que nuestra clase se comporta como la clase padre.\n",
        "\n"
      ]
    },
    {
      "cell_type": "code",
      "execution_count": null,
      "metadata": {
        "id": "Qsb6RHAK4fWp",
        "outputId": "a071e19f-88bb-4842-f74e-373fde628159"
      },
      "outputs": [
        {
          "data": {
            "text/plain": [
              "([1, 2, 3, 5], 'Pepe')"
            ]
          },
          "execution_count": 3,
          "metadata": {},
          "output_type": "execute_result"
        }
      ],
      "source": [
        "a.append(5)\n",
        "a, a.name"
      ]
    },
    {
      "cell_type": "code",
      "execution_count": null,
      "metadata": {
        "id": "9wPF0DhE4fWq",
        "outputId": "8d11ff60-3c58-41a8-f88e-c3c08bde63cb"
      },
      "outputs": [
        {
          "data": {
            "text/plain": [
              "([1, 2, 3], 'Bob')"
            ]
          },
          "execution_count": 4,
          "metadata": {},
          "output_type": "execute_result"
        }
      ],
      "source": [
        "b = MiLista({1,2,3}, \"Bob\")\n",
        "b, b.name"
      ]
    },
    {
      "cell_type": "markdown",
      "metadata": {
        "id": "Jht7Z9QB4fWq"
      },
      "source": [
        "Conviene intentar el código anterior aplicándolo a `set` y `frozenset`.\n",
        "\n"
      ]
    },
    {
      "cell_type": "code",
      "execution_count": null,
      "metadata": {
        "id": "r2eR-ATO4fWr",
        "outputId": "45830e34-75a9-459a-d8b4-c4946c24a79e"
      },
      "outputs": [
        {
          "data": {
            "text/plain": [
              "([1, 2, 3], 'Juan')"
            ]
          },
          "execution_count": 9,
          "metadata": {},
          "output_type": "execute_result"
        }
      ],
      "source": [
        "class MiConjunto(list):\n",
        "    def __init__(self, elementos, nombre):\n",
        "        super().__init__(elementos)\n",
        "        self.name = nombre\n",
        "\n",
        "c = MiConjunto([1,2,3], \"Juan\")\n",
        "c, c.name"
      ]
    },
    {
      "cell_type": "code",
      "execution_count": null,
      "metadata": {
        "id": "20CLo2YT4fWr"
      },
      "outputs": [],
      "source": []
    }
  ],
  "metadata": {
    "kernelspec": {
      "display_name": "Python 3",
      "language": "python",
      "name": "python3"
    },
    "language_info": {
      "codemirror_mode": {
        "name": "ipython",
        "version": 3
      },
      "file_extension": ".py",
      "mimetype": "text/x-python",
      "name": "python",
      "nbconvert_exporter": "python",
      "pygments_lexer": "ipython3",
      "version": "3.9.2"
    },
    "org": null,
    "colab": {
      "provenance": []
    }
  },
  "nbformat": 4,
  "nbformat_minor": 0
}