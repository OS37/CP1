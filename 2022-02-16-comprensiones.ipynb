{
  "cells": [
    {
      "cell_type": "markdown",
      "metadata": {
        "id": "Kmj2niWNcFpe"
      },
      "source": [
        "Comprensiones\n",
        "=============\n",
        "\n",
        "**Date:** 2022-02-16\n",
        "\n"
      ]
    },
    {
      "cell_type": "markdown",
      "metadata": {
        "id": "gPRm9XmEcFpg"
      },
      "source": [
        "## Comprensiones de listas\n",
        "\n"
      ]
    },
    {
      "cell_type": "markdown",
      "metadata": {
        "id": "-gXr6xJCcFph"
      },
      "source": [
        "Muchas veces es conveniente este concepto para construir ciertas listas. Por ejemplo:\n",
        "\n"
      ]
    },
    {
      "cell_type": "code",
      "execution_count": null,
      "metadata": {
        "id": "09aS5sWNcFpi"
      },
      "outputs": [],
      "source": [
        "cuadrados = []\n",
        "for i in range(5):\n",
        "    cuadrados.append(i**2)\n",
        "\n",
        "cuadrados"
      ]
    },
    {
      "cell_type": "markdown",
      "metadata": {
        "id": "vX2xMpYGcFpi"
      },
      "source": [
        "Se puede usar una sintaxis parecida a la notación matemática $\\{i^{2}\\mid i\\in\\{0,1,2,3,4\\}\\}$. Esto en inglés se le llama *List Comprehension*.\n",
        "\n"
      ]
    },
    {
      "cell_type": "code",
      "execution_count": null,
      "metadata": {
        "id": "Xi7l6Qp5cFpj"
      },
      "outputs": [],
      "source": [
        "cuadrados2 = [i**2 for i in range(5)]\n",
        "\n",
        "cuadrados2"
      ]
    },
    {
      "cell_type": "code",
      "execution_count": null,
      "metadata": {
        "id": "Gw_mkRyNcFpj"
      },
      "outputs": [],
      "source": [
        "cuadrados3 = [i**2 for i in range(10) if i % 2 == 0]\n",
        "cuadrados3"
      ]
    },
    {
      "cell_type": "markdown",
      "metadata": {
        "id": "bClUNCcZcFpk"
      },
      "source": [
        "Usando comprensiones, podemos optimizar el código de una función que dado un conjunto regrese todos sus subconjuntos.\n",
        "\n"
      ]
    },
    {
      "cell_type": "code",
      "execution_count": null,
      "metadata": {
        "id": "z657pQF9cFpk"
      },
      "outputs": [],
      "source": [
        "from itertools import combinations\n",
        "\n",
        "def subconjuntos(conjunto):\n",
        "    todos = []\n",
        "    for i in range(len(conjunto)+1):\n",
        "        for sub in combinations(conjunto, i):\n",
        "            todos.append(set(sub))\n",
        "\n",
        "    return todos\n",
        "\n",
        "subconjuntos({1,5,8})"
      ]
    },
    {
      "cell_type": "markdown",
      "metadata": {
        "id": "d5jKHYuYcFpl"
      },
      "source": [
        "El conjunto vacío no se puede representar con `{}`, pues ese es el diccionario vacío. Sin embargo, se puede obtener aplicando `set` a la lista vacía:\n",
        "\n"
      ]
    },
    {
      "cell_type": "code",
      "execution_count": null,
      "metadata": {
        "id": "V26y4-wdcFpl"
      },
      "outputs": [],
      "source": [
        "a = set([])\n",
        "type(a), a"
      ]
    },
    {
      "cell_type": "code",
      "execution_count": null,
      "metadata": {
        "id": "Py0RRnrlcFpn"
      },
      "outputs": [],
      "source": [
        "ejemplo = {1, 3, 9}\n",
        "\n",
        "list(combinations(ejemplo, 2))"
      ]
    },
    {
      "cell_type": "code",
      "execution_count": null,
      "metadata": {
        "id": "YS4A1noccFpn"
      },
      "outputs": [],
      "source": [
        "subs = [set(sub) for sub in combinations(ejemplo, 2)]\n",
        "subs"
      ]
    },
    {
      "cell_type": "code",
      "execution_count": null,
      "metadata": {
        "id": "7_ZQ0XAAcFpn"
      },
      "outputs": [],
      "source": [
        "subs = [set(sub) for i in range(4) for sub in combinations(ejemplo, i)]\n",
        "subs"
      ]
    },
    {
      "cell_type": "markdown",
      "metadata": {
        "id": "4OvaCpPQcFpn"
      },
      "source": [
        "## Otras comprensiones\n",
        "\n"
      ]
    },
    {
      "cell_type": "markdown",
      "metadata": {
        "id": "N834bp8ucFpn"
      },
      "source": [
        "También hay comprensiones de conjuntos:\n",
        "\n"
      ]
    },
    {
      "cell_type": "code",
      "execution_count": null,
      "metadata": {
        "id": "nHOvV0QucFpn"
      },
      "outputs": [],
      "source": [
        "cuads = {i**2 for i in range(6)}\n",
        "cuads"
      ]
    },
    {
      "cell_type": "markdown",
      "metadata": {
        "id": "14NXoVvpcFpn"
      },
      "source": [
        "Hay también comprensiones de diccionarios:\n",
        "\n"
      ]
    },
    {
      "cell_type": "code",
      "execution_count": null,
      "metadata": {
        "id": "G1BhL8P0cFpn"
      },
      "outputs": [],
      "source": [
        "dict_cuadrados = {i:i**2 for i in range(6)}\n",
        "dict_cuadrados"
      ]
    },
    {
      "cell_type": "markdown",
      "metadata": {
        "id": "fh5cngh0cFpn"
      },
      "source": [
        "## Subconjuntos\n",
        "\n"
      ]
    },
    {
      "cell_type": "markdown",
      "metadata": {
        "id": "u6ONwrzNcFpo"
      },
      "source": [
        "Se puede usar la función `combinations` de la biblioteca `itertools` para obtener todos los subconjuntos de un conjunto de cierto tamaño.\n",
        "\n"
      ]
    },
    {
      "cell_type": "code",
      "execution_count": null,
      "metadata": {
        "id": "Bn-6cSGVcFpo"
      },
      "outputs": [],
      "source": [
        "from itertools import combinations\n",
        "\n",
        "ejemplo = {1,4,7,8}\n",
        "set(combinations(ejemplo, 3))"
      ]
    },
    {
      "cell_type": "markdown",
      "metadata": {
        "id": "Tss0RXSTcFpo"
      },
      "source": [
        "Ejercicio: Definir una función que regrese todos los subconjuntos de un conjunto. Por ejemplo, para el conjunto `{1,4,7,8}` regrese:\n",
        "\n"
      ]
    },
    {
      "cell_type": "code",
      "execution_count": null,
      "metadata": {
        "id": "v-8F0IShcFpo"
      },
      "outputs": [],
      "source": [
        "def todos_subconjuntos(conjunto):\n",
        "    todos = []\n",
        "    for i in range(len(conjunto)+1):\n",
        "        for subconjunto in combinations(conjunto, i):\n",
        "            todos.append(set(subconjunto))\n",
        "    return todos\n",
        "\n",
        "todos_subconjuntos(ejemplo)"
      ]
    },
    {
      "cell_type": "markdown",
      "metadata": {
        "id": "IqxvYM7IcFpp"
      },
      "source": [
        "## Knapsack problem\n",
        "\n"
      ]
    },
    {
      "cell_type": "code",
      "execution_count": null,
      "metadata": {
        "id": "qBxM8PSLcFpp"
      },
      "outputs": [],
      "source": [
        "2**1000"
      ]
    },
    {
      "cell_type": "markdown",
      "metadata": {
        "id": "1Hfr0FBqcFpq"
      },
      "source": [
        "utilidad -> *profit*\n",
        "\n",
        "peso -> *weight*\n",
        "\n"
      ]
    },
    {
      "cell_type": "code",
      "execution_count": null,
      "metadata": {
        "id": "pYY9s6xrcFpq"
      },
      "outputs": [],
      "source": [
        "utilidad = {\"linterna\":10, \"libro\":2, \"baterías\":4, \"lata\":7, \"bolsa de dormir\": 20, \"mapa\":6, \"celular\":7, \"encendedor\": 8, \"asador\":6, \"computadora\":7 }\n",
        "\n",
        "peso = {\"linterna\":3, \"libro\":5, \"baterías\":1, \"lata\":3, \"bolsa de dormir\": 8, \"mapa\":1, \"celular\": 2, \"encendedor\":1, \"asador\":10, \"computadora\":1}"
      ]
    },
    {
      "cell_type": "code",
      "execution_count": null,
      "metadata": {
        "id": "2NYftpuGcFpq"
      },
      "outputs": [],
      "source": [
        "for objeto in utilidad.keys():\n",
        "    print(f\"El objeto '{objeto}' tiene utilidad {utilidad[objeto]}.\")"
      ]
    },
    {
      "cell_type": "markdown",
      "metadata": {
        "id": "Lh-pFrC6cFpq"
      },
      "source": [
        "En realidad, no se necesita decir explícitamente que se van a recorrer las llaves para recorrer un diccionario:\n",
        "\n"
      ]
    },
    {
      "cell_type": "code",
      "execution_count": null,
      "metadata": {
        "id": "jug2RVbPcFpq"
      },
      "outputs": [],
      "source": [
        "for objeto in utilidad:\n",
        "    print(f\"El objeto '{objeto}' tiene utilidad {utilidad[objeto]}.\")"
      ]
    },
    {
      "cell_type": "markdown",
      "metadata": {
        "id": "6qXllAHMcFpr"
      },
      "source": [
        "Ejercicio: Definir una función que, dado un subconjunto de los objetos, determine la suma de los pesos o de las utilidades. Es decir, `tarea({\"mapa\", \"celular\"}, utilidad)` debe regresar 13.\n",
        "\n",
        "Sugerencia: Usar la función `sum`.\n",
        "\n"
      ]
    },
    {
      "cell_type": "code",
      "execution_count": null,
      "metadata": {
        "id": "WVo7mwlKcFpr"
      },
      "outputs": [],
      "source": [
        "sum([4,5,10])"
      ]
    },
    {
      "cell_type": "code",
      "execution_count": null,
      "metadata": {
        "id": "9EzKBrXocFpr"
      },
      "outputs": [],
      "source": [
        "def suma(conjunto, parámetro):\n",
        "    valores = [parámetro[objeto] for objeto in conjunto]\n",
        "    return sum(valores)\n",
        "\n",
        "suma(conjunto={\"linterna\", \"lata\"}, parámetro=peso)"
      ]
    },
    {
      "cell_type": "code",
      "execution_count": null,
      "metadata": {
        "id": "_HuzpnJOcFpr"
      },
      "outputs": [],
      "source": [
        "def todos_subconjuntos(conjunto):\n",
        "    return [set(subconjunto) for i in range(len(conjunto)+1) for subconjunto \\\n",
        "            in combinations(conjunto, i)]\n",
        "\n",
        "todos_subconjuntos({1,-6,6})"
      ]
    },
    {
      "cell_type": "code",
      "execution_count": null,
      "metadata": {
        "id": "dKfZl9nAcFpr"
      },
      "outputs": [],
      "source": [
        "for conjunto in todos_subconjuntos(utilidad):\n",
        "    print(f\"El conjunto {conjunto} tiene utilidad {suma(conjunto, utilidad)}.\")"
      ]
    },
    {
      "cell_type": "markdown",
      "metadata": {
        "id": "d78_BIiMcFpr"
      },
      "source": [
        "Definimos una función que dado un subconjunto de objetos y un límite, determine si el conjunto es factible (si su peso total es cuando mucho el límite).\n",
        "\n",
        "factible -> feasible\n",
        "\n"
      ]
    },
    {
      "cell_type": "code",
      "execution_count": null,
      "metadata": {
        "id": "luBkcXMncFpr"
      },
      "outputs": [],
      "source": [
        "def es_factible(conjunto, límite, parámetro=peso):\n",
        "    return suma(conjunto, parámetro) <= límite\n",
        "\n",
        "es_factible({\"bolsa de dormir\", \"asador\"}, 15)"
      ]
    },
    {
      "cell_type": "markdown",
      "metadata": {
        "id": "WHRiWj4-cFpr"
      },
      "source": [
        "Con esto, definimos una función para resolver el problema de la mochila.\n",
        "\n"
      ]
    },
    {
      "cell_type": "code",
      "execution_count": null,
      "metadata": {
        "id": "5vaxUVlOcFps"
      },
      "outputs": [],
      "source": [
        "def problema_mochila(pesos, utilidades, límite):\n",
        "    subconjuntos = todos_subconjuntos(pesos)\n",
        "    conjunto_óptimo = set()\n",
        "    for conjunto in subconjuntos:\n",
        "        if es_factible(conjunto, límite, parámetro=pesos):\n",
        "            if suma(conjunto, utilidad) > suma(conjunto_óptimo, utilidad):\n",
        "                conjunto_óptimo = conjunto.copy()\n",
        "                # print(f\"El conjunto óptimo hasta ahora es {conjunto_óptimo}\")\n",
        "                # print(f\"Con peso {suma(conjunto_óptimo, peso)} y utilidad {suma(conjunto_óptimo, utilidad)}\")\n",
        "    return conjunto_óptimo\n",
        "\n",
        "resultado = problema_mochila(peso, utilidad, 15)\n",
        "resultado"
      ]
    },
    {
      "cell_type": "code",
      "execution_count": null,
      "metadata": {
        "id": "2qBKllTEcFps"
      },
      "outputs": [],
      "source": [
        "suma(resultado, utilidad), suma(resultado, peso)"
      ]
    },
    {
      "cell_type": "markdown",
      "metadata": {
        "id": "glWLm-gUcFps"
      },
      "source": [
        "## Otra manera de resolver el problema\n",
        "\n"
      ]
    },
    {
      "cell_type": "markdown",
      "metadata": {
        "id": "OGDbXe07cFps"
      },
      "source": [
        "Usaremos que la función `max` obtiene el máximo de los elementos de una lista\n",
        "\n"
      ]
    },
    {
      "cell_type": "code",
      "execution_count": null,
      "metadata": {
        "id": "_kDWuZwacFps"
      },
      "outputs": [],
      "source": [
        "max([3, 4, 21, 20, 5, -3, 9, 12])"
      ]
    },
    {
      "cell_type": "markdown",
      "metadata": {
        "id": "uCSzGkNScFpt"
      },
      "source": [
        "También funciona en tuplas, puesto que las tuplas se ordenan por *orden del diccionario*.\n",
        "\n"
      ]
    },
    {
      "cell_type": "code",
      "execution_count": null,
      "metadata": {
        "id": "DVJf2HmUcFpt"
      },
      "outputs": [],
      "source": [
        "max([(2, 10), (4, 3), (-2, 3), (4, 8)])"
      ]
    },
    {
      "cell_type": "code",
      "execution_count": null,
      "metadata": {
        "id": "To7cZnyvcFpt"
      },
      "outputs": [],
      "source": [
        "todos = todos_subconjuntos(peso)\n",
        "len(todos) == 2**len(peso), len(todos)"
      ]
    },
    {
      "cell_type": "markdown",
      "metadata": {
        "id": "v66F7ClZcFpt"
      },
      "source": [
        "Vamos ahora a filtrar los subconjuntos factibles.\n",
        "\n"
      ]
    },
    {
      "cell_type": "code",
      "execution_count": null,
      "metadata": {
        "id": "iRagDxMecFpt"
      },
      "outputs": [],
      "source": [
        "factibles = [sub for sub in todos if es_factible(sub, 15)]\n",
        "len(factibles)"
      ]
    },
    {
      "cell_type": "code",
      "execution_count": null,
      "metadata": {
        "id": "DGtfxal3cFpu"
      },
      "outputs": [],
      "source": [
        "utilidades = [(suma(sub, utilidad), sub, suma(sub, peso)) for sub in factibles]\n",
        "max(utilidades)"
      ]
    },
    {
      "cell_type": "code",
      "execution_count": null,
      "metadata": {
        "id": "5H53BUoccFpu"
      },
      "outputs": [],
      "source": [
        "[]"
      ]
    },
    {
      "cell_type": "markdown",
      "metadata": {
        "id": "Y4RDSnkNcFpu"
      },
      "source": [
        "## Tarea\n",
        "\n"
      ]
    },
    {
      "cell_type": "markdown",
      "metadata": {
        "id": "S3rQrYXpcFpu"
      },
      "source": [
        "TAREA: Generar datos para el problema de la mochila.\n",
        "\n",
        "Sirve la biblioteca `random`\n",
        "\n"
      ]
    },
    {
      "cell_type": "code",
      "execution_count": null,
      "metadata": {
        "id": "HJPBIys7cFpu"
      },
      "outputs": [],
      "source": [
        "from random import randint\n",
        "\n",
        "randint(0,20)"
      ]
    },
    {
      "cell_type": "code",
      "execution_count": null,
      "metadata": {
        "id": "uDDUOoEMcFpu"
      },
      "outputs": [],
      "source": [
        "peso = {i: randint(1, 30) for i in range(10)}\n",
        "utilidad = {i: randint(1, 30) for i in range(10)}\n",
        "peso, utilidad"
      ]
    },
    {
      "cell_type": "markdown",
      "metadata": {
        "id": "jS2lz-TMcFpv"
      },
      "source": [
        "27, 10\n",
        "8, 10\n",
        "11, 2\n",
        "22, 6\n",
        "\n"
      ]
    },
    {
      "cell_type": "code",
      "execution_count": null,
      "metadata": {
        "id": "FWr6C0dFcFpw"
      },
      "outputs": [],
      "source": [
        "resultado = problema_mochila(peso, utilidad, 16)\n",
        "resultado"
      ]
    },
    {
      "cell_type": "code",
      "execution_count": null,
      "metadata": {
        "id": "hPM05ImUcFpw"
      },
      "outputs": [],
      "source": [
        "suma(resultado, utilidad), suma(resultado, peso)"
      ]
    },
    {
      "cell_type": "markdown",
      "metadata": {
        "id": "I-SaU_l-cFpw"
      },
      "source": [
        "Un aspecto que podemos mejorar, es que los datos que definen una instancia del problema de la mochila deben considerarse como un todo. Un intento de resolverlo, podría ser que incluyéramos en un diccionario, juntos el peso y la utilidad.\n",
        "\n"
      ]
    },
    {
      "cell_type": "code",
      "execution_count": null,
      "metadata": {
        "id": "S1ZBd0accFpw"
      },
      "outputs": [],
      "source": [
        "datos_mochila = {i: [randint(1, 20), randint(1,20)] for i in range(10)}\n",
        "datos_mochila"
      ]
    },
    {
      "cell_type": "markdown",
      "metadata": {
        "id": "Evip1sfTcFpw"
      },
      "source": [
        "Pero en este caso, podríamos olvidar que el primer elemento de la lista es el peso y el segundo la utilidad. Más adelante, cuando veamos el concepto *clases*, éste nos servirá para crear nuevos objetos con las características que deseemos, como por ejemplo, juntar la lista de objetos, sus utilidades, sus pesos, y el límite de la mochila en un solo objeto.\n",
        "\n"
      ]
    },
    {
      "cell_type": "code",
      "execution_count": null,
      "metadata": {
        "id": "If9lCJWzcFpw"
      },
      "outputs": [],
      "source": [
        "problema = (peso, utilidad, 40)\n",
        "problema"
      ]
    },
    {
      "cell_type": "markdown",
      "metadata": {
        "id": "o-pzlr5WcFpx"
      },
      "source": [
        "*unpacking*  <- Desempacar una tupla, para poder usar sus tres componentes como argumentos de una función que espera los tres argumentos.\n",
        "\n"
      ]
    },
    {
      "cell_type": "code",
      "execution_count": null,
      "metadata": {
        "id": "BQO4FsXCcFpx"
      },
      "outputs": [],
      "source": [
        "problema_mochila(*problema)"
      ]
    }
  ],
  "metadata": {
    "org": null,
    "kernelspec": {
      "display_name": "Python 3",
      "language": "python",
      "name": "python3"
    },
    "language_info": {
      "codemirror_mode": {
        "name": "ipython",
        "version": 3
      },
      "file_extension": ".py",
      "mimetype": "text/x-python",
      "name": "python",
      "nbconvert_exporter": "python",
      "pygments_lexer": "ipython3",
      "version": "3.5.2"
    },
    "colab": {
      "provenance": []
    }
  },
  "nbformat": 4,
  "nbformat_minor": 0
}