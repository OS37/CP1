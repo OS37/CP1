{
  "nbformat": 4,
  "nbformat_minor": 0,
  "metadata": {
    "colab": {
      "provenance": [],
      "authorship_tag": "ABX9TyOotpUHcWsILWarcmALBj+F",
      "include_colab_link": true
    },
    "kernelspec": {
      "name": "python3",
      "display_name": "Python 3"
    },
    "language_info": {
      "name": "python"
    }
  },
  "cells": [
    {
      "cell_type": "markdown",
      "metadata": {
        "id": "view-in-github",
        "colab_type": "text"
      },
      "source": [
        "<a href=\"https://colab.research.google.com/github/OS37/CP1/blob/main/Ejercicio_suma_subconjuntos.ipynb\" target=\"_parent\"><img src=\"https://colab.research.google.com/assets/colab-badge.svg\" alt=\"Open In Colab\"/></a>"
      ]
    },
    {
      "cell_type": "markdown",
      "source": [
        "Vamos a definir una función que dependa de 2 argumentos, el primero será la cantidad de elementos que querramos tenga nuestro conjunto, el segundo será el rango en el que nos daran estos elementos, es decir si escribo (5,10) el programa me regresara una lista de 5 datos entre -10 y 10"
      ],
      "metadata": {
        "id": "25dbY4JyGX8d"
      }
    },
    {
      "cell_type": "code",
      "source": [
        "import random    ##genera números aleatorios\n",
        "\n",
        "def can_rang(cantidad,rango): ##definimos la función\n",
        "    conjunto=set()\n",
        "    for _ in range(cantidad):   ###dependiendo el valor de cantidad será las veces que se repita el for\n",
        "        numero = random.randint(-rango, rango)\n",
        "        conjunto.add(numero)\n",
        "    return(conjunto)\n",
        "can_rang(5,10)"
      ],
      "metadata": {
        "colab": {
          "base_uri": "https://localhost:8080/"
        },
        "id": "iAIkj_h_GZNd",
        "outputId": "7b24b351-f68a-4deb-d4f9-ac780745b49c"
      },
      "execution_count": null,
      "outputs": [
        {
          "output_type": "execute_result",
          "data": {
            "text/plain": [
              "{-8, -7, -6, 5, 9}"
            ]
          },
          "metadata": {},
          "execution_count": 21
        }
      ]
    },
    {
      "cell_type": "code",
      "source": [
        "import random    ##genera números aleatorios\n",
        "def cant_rang(cantidad,rango): ##definimos la función\n",
        "    return{random.randint(-rango,rango) for i in range(cantidad)} ## al poner los {} estamos diciendo que queremos sea un conjunto\n",
        "    ## la función randint nos genera numeros enteros\n",
        "cant_rang(5,10)"
      ],
      "metadata": {
        "colab": {
          "base_uri": "https://localhost:8080/"
        },
        "id": "3isX1jLoO7BO",
        "outputId": "a892a766-ae74-42b7-943b-4cbe0003b14b"
      },
      "execution_count": null,
      "outputs": [
        {
          "output_type": "execute_result",
          "data": {
            "text/plain": [
              "{-10, 2, 4, 7, 10}"
            ]
          },
          "metadata": {},
          "execution_count": 25
        }
      ]
    },
    {
      "cell_type": "markdown",
      "source": [
        "Ahora construiremos un programa que dado un conjunto de números enteros, regrese un subconjunto del conjunto tal que la suma de los elementos del subconjunto sea 0. Si no existe tal conjunto, la función debe regresar False."
      ],
      "metadata": {
        "id": "_k6NMI-lNahD"
      }
    },
    {
      "cell_type": "code",
      "source": [
        "from itertools import combinations\n",
        "\n",
        "cantidad=eval(input('cantidad?'))\n",
        "rango=eval(input('rango?'))\n",
        "x=cant_rang(cantidad,rango)\n",
        "\n",
        "def sum_sub(x):\n"
      ],
      "metadata": {
        "colab": {
          "base_uri": "https://localhost:8080/",
          "height": 142
        },
        "id": "fmWvrjfVRxg-",
        "outputId": "4d93e02d-d5c3-4813-9e9e-25d27c2c43b3"
      },
      "execution_count": null,
      "outputs": [
        {
          "output_type": "error",
          "ename": "SyntaxError",
          "evalue": "ignored",
          "traceback": [
            "\u001b[0;36m  File \u001b[0;32m\"<ipython-input-26-532451d9947b>\"\u001b[0;36m, line \u001b[0;32m5\u001b[0m\n\u001b[0;31m    def sum_sub(x):\u001b[0m\n\u001b[0m                   ^\u001b[0m\n\u001b[0;31mSyntaxError\u001b[0m\u001b[0;31m:\u001b[0m incomplete input\n"
          ]
        }
      ]
    }
  ]
}