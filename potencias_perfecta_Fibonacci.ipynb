{
  "nbformat": 4,
  "nbformat_minor": 0,
  "metadata": {
    "colab": {
      "provenance": [],
      "authorship_tag": "ABX9TyONO82/ONDaByQFqPFoMoXG",
      "include_colab_link": true
    },
    "kernelspec": {
      "name": "python3",
      "display_name": "Python 3"
    },
    "language_info": {
      "name": "python"
    }
  },
  "cells": [
    {
      "cell_type": "markdown",
      "metadata": {
        "id": "view-in-github",
        "colab_type": "text"
      },
      "source": [
        "<a href=\"https://colab.research.google.com/github/OS37/CP1/blob/main/potencias_perfecta_Fibonacci.ipynb\" target=\"_parent\"><img src=\"https://colab.research.google.com/assets/colab-badge.svg\" alt=\"Open In Colab\"/></a>"
      ]
    },
    {
      "cell_type": "code",
      "execution_count": null,
      "metadata": {
        "id": "VYQAYXccGcLH"
      },
      "outputs": [],
      "source": []
    },
    {
      "cell_type": "markdown",
      "source": [
        "Vamos a examinar que numeros de fibonacci menores que 10^20 son cualdrados"
      ],
      "metadata": {
        "id": "MAD-m1i0GcqR"
      }
    },
    {
      "cell_type": "code",
      "source": [
        "from sympy import sqrt\n",
        "\n",
        "def es_cuadrado(n):\n",
        "    return int(sqrt(n)) ** 2 == n\n",
        "\n",
        "def cuadrados_fibonacci(n):\n",
        "    fibs = []\n",
        "    a, b = 0, 1\n",
        "    while a < n:\n",
        "        if es_cuadrado(a):\n",
        "            fibs.append(a)\n",
        "        a, b = b, a+b\n",
        "    return fibs\n",
        "\n",
        "cuadrados_fibonacci(10**20)"
      ],
      "metadata": {
        "colab": {
          "base_uri": "https://localhost:8080/"
        },
        "id": "YRiC7W8LGryI",
        "outputId": "17ef96bc-69fc-471f-a501-47c9f4ad16d6"
      },
      "execution_count": 1,
      "outputs": [
        {
          "output_type": "execute_result",
          "data": {
            "text/plain": [
              "[0, 1, 1, 144]"
            ]
          },
          "metadata": {},
          "execution_count": 1
        }
      ]
    },
    {
      "cell_type": "markdown",
      "source": [
        "Ahora examinaremos los numeros de fibonacci menores que 10^20 son cubos"
      ],
      "metadata": {
        "id": "CjRFC-AWHKne"
      }
    },
    {
      "cell_type": "code",
      "source": [
        "def es_cubo(n):\n",
        "    return int(n**(1/3)) ** 3 == n\n",
        "\n",
        "def cubos_fibonacci(n):\n",
        "    fibs = []\n",
        "    a, b = 0, 1\n",
        "    while a < n:\n",
        "        if es_cubo(a):\n",
        "            fibs.append(a)\n",
        "        a, b = b, a+b\n",
        "    return fibs\n",
        "\n",
        "cubos_fibonacci(10**20)"
      ],
      "metadata": {
        "colab": {
          "base_uri": "https://localhost:8080/"
        },
        "id": "GMmbFBU8HVog",
        "outputId": "2a2acde9-25d7-456e-9aa1-e61d0332009f"
      },
      "execution_count": 6,
      "outputs": [
        {
          "output_type": "execute_result",
          "data": {
            "text/plain": [
              "[0, 1, 1, 8]"
            ]
          },
          "metadata": {},
          "execution_count": 6
        }
      ]
    },
    {
      "cell_type": "markdown",
      "source": [
        "Ahora lo haremos para cualquier potencia\n",
        "n sera el numero hasta el que analizaremos las potencias de fibonacci y pot será la potencia a la que queremos ver si es una potencia perfecta de 2, 3, etc."
      ],
      "metadata": {
        "id": "06fjNxD9IyEr"
      }
    },
    {
      "cell_type": "code",
      "source": [
        "def es_potencia(n,pot):\n",
        "    return int(n**(1/pot)) ** pot == n\n",
        "\n",
        "def potencia_fib(n,pot):\n",
        "    fibs=[]\n",
        "    a, b = 0, 1\n",
        "    while a < n:\n",
        "        if es_potencia(a,pot):\n",
        "            fibs.append(a)\n",
        "        a, b = b, a+b\n",
        "    return fibs\n",
        "\n",
        "potencia_fib(10**20,pot=5)"
      ],
      "metadata": {
        "colab": {
          "base_uri": "https://localhost:8080/"
        },
        "id": "uUoEg6XuI2r3",
        "outputId": "c7f30f10-18ca-46ec-930f-be087ddedc1f"
      },
      "execution_count": 13,
      "outputs": [
        {
          "output_type": "execute_result",
          "data": {
            "text/plain": [
              "[0, 1, 1]"
            ]
          },
          "metadata": {},
          "execution_count": 13
        }
      ]
    },
    {
      "cell_type": "markdown",
      "source": [
        "Podemos verificar que nuestras afirmaciones de que solo los numeros que pusimos son potencias gracias a el siguiente articulo\n",
        "https://annals.math.princeton.edu/wp-content/uploads/annals-v163-n3-p05.pdf"
      ],
      "metadata": {
        "id": "S-C39pKOLjpc"
      }
    },
    {
      "cell_type": "code",
      "source": [],
      "metadata": {
        "id": "ydc2ieUnLyv1"
      },
      "execution_count": null,
      "outputs": []
    }
  ]
}