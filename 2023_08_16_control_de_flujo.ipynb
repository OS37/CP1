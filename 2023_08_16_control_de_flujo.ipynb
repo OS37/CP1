{
  "cells": [
    {
      "cell_type": "markdown",
      "metadata": {
        "id": "view-in-github",
        "colab_type": "text"
      },
      "source": [
        "<a href=\"https://colab.research.google.com/github/OS37/CP1/blob/main/2023_08_16_control_de_flujo.ipynb\" target=\"_parent\"><img src=\"https://colab.research.google.com/assets/colab-badge.svg\" alt=\"Open In Colab\"/></a>"
      ]
    },
    {
      "cell_type": "markdown",
      "metadata": {
        "id": "K23_TZzLBYTE"
      },
      "source": [
        "Control de flujo\n",
        "================\n",
        "\n",
        "**Date:** 2023-08-16\n",
        "\n"
      ]
    },
    {
      "cell_type": "markdown",
      "metadata": {
        "id": "HznSF_hYBYTF"
      },
      "source": [
        "## Control de flujo\n",
        "\n"
      ]
    },
    {
      "cell_type": "markdown",
      "metadata": {
        "id": "el6xaQxQBYTF"
      },
      "source": [
        "### `if`\n",
        "\n"
      ]
    },
    {
      "cell_type": "code",
      "execution_count": 2,
      "metadata": {
        "id": "WvuM_ML5BYTG",
        "colab": {
          "base_uri": "https://localhost:8080/"
        },
        "outputId": "3d3733de-e74a-4fa5-83ad-0e51fe11b0bd"
      },
      "outputs": [
        {
          "output_type": "execute_result",
          "data": {
            "text/plain": [
              "['Lalo', 'Ivan', 'Cesar', 'Alex', 'Karem', 'Carlos', 'Samuel']"
            ]
          },
          "metadata": {},
          "execution_count": 2
        }
      ],
      "source": [
        "inscritos = [\"Lalo\", \"Ivan\", \"Cesar\", \"Alex\", \"Karem\"]\n",
        "oyentes = [\"Carlos\", \"Samuel\"]\n",
        "estudiantes = inscritos + oyentes\n",
        "estudiantes"
      ]
    },
    {
      "cell_type": "code",
      "execution_count": 3,
      "metadata": {
        "id": "aaXqamvTBYTG",
        "colab": {
          "base_uri": "https://localhost:8080/"
        },
        "outputId": "3f0a9f4e-f768-4c85-8070-de2e58518d2c"
      },
      "outputs": [
        {
          "output_type": "stream",
          "name": "stdout",
          "text": [
            "Son muchos estudiantes\n"
          ]
        }
      ],
      "source": [
        "if len(estudiantes) > 5:\n",
        "    print(\"Son muchos estudiantes\")"
      ]
    },
    {
      "cell_type": "code",
      "execution_count": 4,
      "metadata": {
        "id": "Y7-kMUd1BYTH",
        "colab": {
          "base_uri": "https://localhost:8080/"
        },
        "outputId": "1fc1f149-4e7b-4bd9-8ba7-92e1fd12140a"
      },
      "outputs": [
        {
          "output_type": "stream",
          "name": "stdout",
          "text": [
            "Son pocos estudiantes. Ojalá entren oyentes\n"
          ]
        }
      ],
      "source": [
        "if len(estudiantes) > 10:\n",
        "    print(\"Son muchos estudiantes\")\n",
        "else:\n",
        "    print(\"Son pocos estudiantes\", end=\". \")\n",
        "    print(\"Ojalá entren oyentes\")"
      ]
    },
    {
      "cell_type": "code",
      "execution_count": 5,
      "metadata": {
        "id": "-f952-OUBYTH",
        "colab": {
          "base_uri": "https://localhost:8080/"
        },
        "outputId": "a3a4632f-5275-47a2-c589-f03eba8ed1aa"
      },
      "outputs": [
        {
          "output_type": "stream",
          "name": "stdout",
          "text": [
            "Son cuando mucho cinco estudiantes\n"
          ]
        }
      ],
      "source": [
        "if len(inscritos) <= 7:\n",
        "    print(\"Son cuando mucho cinco estudiantes\")\n",
        "elif len(inscritos) == 6:\n",
        "    print(\"Son seis estudiantes\")\n",
        "else:\n",
        "    print(\"Son muchos estudiantes\", end=\". \")\n",
        "    print(\"Ojalá no entren oyentes\")"
      ]
    },
    {
      "cell_type": "markdown",
      "metadata": {
        "id": "EC_D1aMFBYTH"
      },
      "source": [
        "### `for`\n",
        "\n"
      ]
    },
    {
      "cell_type": "code",
      "execution_count": 6,
      "metadata": {
        "id": "91nmfouMBYTI",
        "colab": {
          "base_uri": "https://localhost:8080/"
        },
        "outputId": "eec59c7e-46ea-467f-eff3-6320a9e47c47"
      },
      "outputs": [
        {
          "output_type": "stream",
          "name": "stdout",
          "text": [
            "Hola Lalo ¿Cómo estás?\n",
            "Hola Ivan ¿Cómo estás?\n",
            "Hola Cesar ¿Cómo estás?\n",
            "Hola Alex ¿Cómo estás?\n",
            "Hola Karem ¿Cómo estás?\n",
            "Hola Carlos ¿Cómo estás?\n",
            "Hola Samuel ¿Cómo estás?\n"
          ]
        }
      ],
      "source": [
        "for estudiante in estudiantes:\n",
        "    print(\"Hola\", estudiante, \"¿Cómo estás?\")"
      ]
    },
    {
      "cell_type": "code",
      "execution_count": 7,
      "metadata": {
        "id": "DKO1xpxeBYTJ",
        "colab": {
          "base_uri": "https://localhost:8080/"
        },
        "outputId": "1a821b96-f300-49ea-84f0-1e9ba93e044b"
      },
      "outputs": [
        {
          "output_type": "stream",
          "name": "stdout",
          "text": [
            "Hola Lalo\n",
            "Hola Ivan\n",
            "Hola Cesar\n",
            "Hola Alex\n",
            "Hola Karem\n",
            "Hola Carlos\n",
            "Hola Samuel\n"
          ]
        }
      ],
      "source": [
        "for i in range(len(estudiantes)):\n",
        "    print(\"Hola\", estudiantes[i])"
      ]
    },
    {
      "cell_type": "markdown",
      "source": [
        "Range puede tener 3 valores, el primero es donde empieza, el segundo es un numero antes de donde se detiene y el tercero es el número de cuanto en cuanto va a ir, es decir si tenemos range(m,n,t)\n",
        "empezara en m, terminara un numero antes o despues de n, dependiendo de t, y va a ir de t en t\n"
      ],
      "metadata": {
        "id": "fprvzrtMHtru"
      }
    },
    {
      "cell_type": "code",
      "execution_count": 9,
      "metadata": {
        "id": "39Irj2EABYTJ",
        "colab": {
          "base_uri": "https://localhost:8080/"
        },
        "outputId": "8bdf3924-f026-4f5c-fb2e-4f4e23a97a94"
      },
      "outputs": [
        {
          "output_type": "stream",
          "name": "stdout",
          "text": [
            "5\n",
            "3\n",
            "1\n",
            "-1\n"
          ]
        }
      ],
      "source": [
        "for j in range(5, -3, -2):\n",
        "    print(j)\n",
        "    if j == 0:\n",
        "        print(\"Booom\")"
      ]
    },
    {
      "cell_type": "code",
      "source": [
        "range(7)"
      ],
      "metadata": {
        "colab": {
          "base_uri": "https://localhost:8080/"
        },
        "id": "HEVaU-A8HJBW",
        "outputId": "531d0832-de8a-4f9d-e2ce-1cd7115bf0f5"
      },
      "execution_count": 10,
      "outputs": [
        {
          "output_type": "execute_result",
          "data": {
            "text/plain": [
              "range(0, 7)"
            ]
          },
          "metadata": {},
          "execution_count": 10
        }
      ]
    },
    {
      "cell_type": "code",
      "execution_count": 11,
      "metadata": {
        "id": "BkYCysnkBYTK",
        "colab": {
          "base_uri": "https://localhost:8080/"
        },
        "outputId": "751ff24f-9756-4ba2-d559-ea53b1d625a1"
      },
      "outputs": [
        {
          "output_type": "execute_result",
          "data": {
            "text/plain": [
              "range(0, 7897987978979779878979797987987979779797979)"
            ]
          },
          "metadata": {},
          "execution_count": 11
        }
      ],
      "source": [
        "range(7897987978979779878979797987987979779797979)"
      ]
    },
    {
      "cell_type": "markdown",
      "metadata": {
        "id": "xA6M0Eb1BYTL"
      },
      "source": [
        "La suma de todos los números del 1 al 100.\n",
        "\n"
      ]
    },
    {
      "cell_type": "code",
      "execution_count": 12,
      "metadata": {
        "id": "Q5GLzfLFBYTL",
        "colab": {
          "base_uri": "https://localhost:8080/"
        },
        "outputId": "a677ad8f-7d02-40e9-86b0-661a69777927"
      },
      "outputs": [
        {
          "output_type": "execute_result",
          "data": {
            "text/plain": [
              "5050"
            ]
          },
          "metadata": {},
          "execution_count": 12
        }
      ],
      "source": [
        "sum(range(101))"
      ]
    },
    {
      "cell_type": "markdown",
      "metadata": {
        "id": "vqYzhPiRBYTL"
      },
      "source": [
        "### break, continue y else en ciclos for\n",
        "\n"
      ]
    },
    {
      "cell_type": "markdown",
      "metadata": {
        "id": "B0fMwKw2BYTL"
      },
      "source": [
        "#### break\n",
        "\n"
      ]
    },
    {
      "cell_type": "markdown",
      "metadata": {
        "id": "8XJS5PyDBYTL"
      },
      "source": [
        "`break` sirve para interrumpir un ciclo for.\n",
        "\n"
      ]
    },
    {
      "cell_type": "code",
      "execution_count": 13,
      "metadata": {
        "id": "HW4kekopBYTP",
        "colab": {
          "base_uri": "https://localhost:8080/"
        },
        "outputId": "672cb4b2-3996-4b97-defe-d51c965aa483"
      },
      "outputs": [
        {
          "output_type": "stream",
          "name": "stdout",
          "text": [
            "Hola Lalo ¿Cómo estás?\n",
            "Hola Ivan ¿Cómo estás?\n",
            "Hola Cesar ¿Cómo estás?\n",
            "Hola Alex ¿Cómo estás?\n",
            "Hola Karem ¿Cómo estás?\n",
            "Ya saludé a los inscritos\n"
          ]
        }
      ],
      "source": [
        "for estudiante in estudiantes:\n",
        "    print(\"Hola\", estudiante, \"¿Cómo estás?\")\n",
        "    if estudiante == \"Karem\":\n",
        "        break\n",
        "\n",
        "print(\"Ya saludé a los inscritos\")"
      ]
    },
    {
      "cell_type": "markdown",
      "metadata": {
        "id": "V2HRYubgBYTP"
      },
      "source": [
        "#### else en un ciclo for\n",
        "\n"
      ]
    },
    {
      "cell_type": "markdown",
      "metadata": {
        "id": "2KIC-SkfBYTP"
      },
      "source": [
        "La cláusula `else` en un ciclo `for` se ejecuta cuando el ciclo `for` termina de manera \"natural\", sin haber pasado por una cláusula `break`.\n",
        "\n"
      ]
    },
    {
      "cell_type": "code",
      "execution_count": 15,
      "metadata": {
        "id": "XYvAXf5wBYTQ",
        "colab": {
          "base_uri": "https://localhost:8080/"
        },
        "outputId": "cb0a6eb5-c883-4e19-bd1a-00039fc5c5a4"
      },
      "outputs": [
        {
          "output_type": "stream",
          "name": "stdout",
          "text": [
            "2 es un número primo\n",
            "3 es un número primo\n",
            "4 es igual a 2 * 2\n",
            "5 es un número primo\n",
            "6 es igual a 2 * 3\n",
            "7 es un número primo\n",
            "8 es igual a 2 * 4\n",
            "9 es igual a 3 * 3\n",
            "10 es igual a 2 * 5\n",
            "11 es un número primo\n",
            "12 es igual a 2 * 6\n",
            "13 es un número primo\n",
            "14 es igual a 2 * 7\n",
            "15 es igual a 3 * 5\n",
            "16 es igual a 2 * 8\n",
            "17 es un número primo\n",
            "18 es igual a 2 * 9\n",
            "19 es un número primo\n",
            "20 es igual a 2 * 10\n",
            "21 es igual a 3 * 7\n",
            "22 es igual a 2 * 11\n",
            "23 es un número primo\n",
            "24 es igual a 2 * 12\n",
            "25 es igual a 5 * 5\n",
            "26 es igual a 2 * 13\n",
            "27 es igual a 3 * 9\n",
            "28 es igual a 2 * 14\n",
            "29 es un número primo\n",
            "30 es igual a 2 * 15\n",
            "31 es un número primo\n",
            "32 es igual a 2 * 16\n",
            "33 es igual a 3 * 11\n",
            "34 es igual a 2 * 17\n",
            "35 es igual a 5 * 7\n",
            "36 es igual a 2 * 18\n",
            "37 es un número primo\n",
            "38 es igual a 2 * 19\n",
            "39 es igual a 3 * 13\n",
            "40 es igual a 2 * 20\n",
            "41 es un número primo\n",
            "42 es igual a 2 * 21\n",
            "43 es un número primo\n",
            "44 es igual a 2 * 22\n",
            "45 es igual a 3 * 15\n",
            "46 es igual a 2 * 23\n",
            "47 es un número primo\n",
            "48 es igual a 2 * 24\n",
            "49 es igual a 7 * 7\n",
            "50 es igual a 2 * 25\n",
            "51 es igual a 3 * 17\n",
            "52 es igual a 2 * 26\n",
            "53 es un número primo\n",
            "54 es igual a 2 * 27\n",
            "55 es igual a 5 * 11\n",
            "56 es igual a 2 * 28\n",
            "57 es igual a 3 * 19\n",
            "58 es igual a 2 * 29\n",
            "59 es un número primo\n",
            "60 es igual a 2 * 30\n",
            "61 es un número primo\n",
            "62 es igual a 2 * 31\n",
            "63 es igual a 3 * 21\n",
            "64 es igual a 2 * 32\n",
            "65 es igual a 5 * 13\n",
            "66 es igual a 2 * 33\n",
            "67 es un número primo\n",
            "68 es igual a 2 * 34\n",
            "69 es igual a 3 * 23\n",
            "70 es igual a 2 * 35\n",
            "71 es un número primo\n",
            "72 es igual a 2 * 36\n",
            "73 es un número primo\n",
            "74 es igual a 2 * 37\n",
            "75 es igual a 3 * 25\n",
            "76 es igual a 2 * 38\n",
            "77 es igual a 7 * 11\n",
            "78 es igual a 2 * 39\n",
            "79 es un número primo\n",
            "80 es igual a 2 * 40\n",
            "81 es igual a 3 * 27\n",
            "82 es igual a 2 * 41\n",
            "83 es un número primo\n",
            "84 es igual a 2 * 42\n",
            "85 es igual a 5 * 17\n",
            "86 es igual a 2 * 43\n",
            "87 es igual a 3 * 29\n",
            "88 es igual a 2 * 44\n",
            "89 es un número primo\n",
            "90 es igual a 2 * 45\n",
            "91 es igual a 7 * 13\n",
            "92 es igual a 2 * 46\n",
            "93 es igual a 3 * 31\n",
            "94 es igual a 2 * 47\n",
            "95 es igual a 5 * 19\n",
            "96 es igual a 2 * 48\n",
            "97 es un número primo\n",
            "98 es igual a 2 * 49\n",
            "99 es igual a 3 * 33\n"
          ]
        }
      ],
      "source": [
        "for n in range(2, 100):\n",
        "    for x in range(2, n):\n",
        "        if n % x == 0:\n",
        "            print(n, 'es igual a', x, '*', n//x)\n",
        "            break\n",
        "    else:\n",
        "        # se terminó de checar posibles divisores sin encontrar uno\n",
        "        print(n, 'es un número primo')"
      ]
    },
    {
      "cell_type": "markdown",
      "metadata": {
        "id": "nnBG3QV8BYTQ"
      },
      "source": [
        "#### continue\n",
        "\n"
      ]
    },
    {
      "cell_type": "markdown",
      "source": [
        "El comando continue es como el break solo que en lugar de detenerlo todo, solo detiene una orden, pero no todas"
      ],
      "metadata": {
        "id": "iEpKqkLsL2Lm"
      }
    },
    {
      "cell_type": "code",
      "execution_count": 16,
      "metadata": {
        "id": "P6ddLJ-3BYTQ",
        "colab": {
          "base_uri": "https://localhost:8080/"
        },
        "outputId": "17c91a42-aa7a-4c05-a8d6-df5a3e4200ca"
      },
      "outputs": [
        {
          "output_type": "stream",
          "name": "stdout",
          "text": [
            "Hola Lalo ¿Cómo estás?\n",
            "¿Qué materias estás llevando, Lalo ?\n",
            "Hola Ivan ¿Cómo estás?\n",
            "¿Qué materias estás llevando, Ivan ?\n",
            "Hola Cesar ¿Cómo estás?\n",
            "¿Qué materias estás llevando, Cesar ?\n",
            "Hola Alex ¿Cómo estás?\n",
            "¿Qué materias estás llevando, Alex ?\n",
            "Hola Karem ¿Cómo estás?\n",
            "¿Qué materias estás llevando, Karem ?\n",
            "Hola Carlos ¿Cómo estás?\n",
            "Hola Samuel ¿Cómo estás?\n"
          ]
        }
      ],
      "source": [
        "for estudiante in estudiantes:\n",
        "    print(\"Hola\", estudiante, \"¿Cómo estás?\")\n",
        "    if estudiante in [\"Carlos\", \"Samuel\"]:\n",
        "        continue\n",
        "    print(\"¿Qué materias estás llevando,\", estudiante,\"?\")"
      ]
    },
    {
      "cell_type": "markdown",
      "metadata": {
        "id": "4sfbPSRmBYTQ"
      },
      "source": [
        "#### pass\n",
        "\n"
      ]
    },
    {
      "cell_type": "markdown",
      "metadata": {
        "id": "Xg0VgCkSBYTR"
      },
      "source": [
        "La claúsula `pass` no hace nada, pero puede servir para que un programa incompleto sea sintácticamente correcto.\n",
        "\n"
      ]
    },
    {
      "cell_type": "code",
      "execution_count": 19,
      "metadata": {
        "id": "C1L88P9ZBYTR",
        "colab": {
          "base_uri": "https://localhost:8080/"
        },
        "outputId": "48da6b02-3ccc-49a1-de33-db0110497e15"
      },
      "outputs": [
        {
          "output_type": "stream",
          "name": "stdout",
          "text": [
            "Hola Lalo ¿Cómo estás?\n",
            "Hola Ivan ¿Cómo estás?\n",
            "Hola Cesar ¿Cómo estás?\n",
            "Hola Alex ¿Cómo estás?\n",
            "Hola Karem ¿Cómo estás?\n",
            "Hola Carlos ¿Cómo estás?\n",
            "Hola Samuel ¿Cómo estás?\n"
          ]
        }
      ],
      "source": [
        "for estudiante in estudiantes:\n",
        "    print(\"Hola\", estudiante, \"¿Cómo estás?\")\n",
        "    if estudiante in [\"Carlos\", \"Samuel\"]:\n",
        "        pass"
      ]
    },
    {
      "cell_type": "code",
      "execution_count": 20,
      "metadata": {
        "id": "NNHJToroBYTR",
        "colab": {
          "base_uri": "https://localhost:8080/"
        },
        "outputId": "37193071-a6dd-4c63-f6ce-dae0a7d9a7a5"
      },
      "outputs": [
        {
          "output_type": "stream",
          "name": "stdout",
          "text": [
            "Hola Lalo ¿Cómo estás?\n",
            "Hola Ivan ¿Cómo estás?\n",
            "Hola Cesar ¿Cómo estás?\n",
            "Hola Alex ¿Cómo estás?\n",
            "Hola Karem ¿Cómo estás?\n",
            "Hola Carlos ¿Cómo estás?\n",
            "Hola Carlos ¿Eres oyente?\n",
            "Hola Samuel ¿Cómo estás?\n",
            "Hola Samuel ¿Eres oyente?\n"
          ]
        }
      ],
      "source": [
        "for estudiante in estudiantes:\n",
        "    print(\"Hola\", estudiante, \"¿Cómo estás?\")\n",
        "    if estudiante in [\"Carlos\", \"Samuel\"]:\n",
        "        print(\"Hola\", estudiante, \"¿Eres oyente?\")"
      ]
    }
  ],
  "metadata": {
    "kernelspec": {
      "display_name": "Python 3",
      "language": "python",
      "name": "python3"
    },
    "language_info": {
      "codemirror_mode": {
        "name": "ipython",
        "version": 3
      },
      "file_extension": ".py",
      "mimetype": "text/x-python",
      "name": "python",
      "nbconvert_exporter": "python",
      "pygments_lexer": "ipython3",
      "version": "3.9.2"
    },
    "org": null,
    "colab": {
      "provenance": [],
      "include_colab_link": true
    }
  },
  "nbformat": 4,
  "nbformat_minor": 0
}