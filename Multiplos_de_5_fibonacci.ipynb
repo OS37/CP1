{
  "nbformat": 4,
  "nbformat_minor": 0,
  "metadata": {
    "colab": {
      "provenance": [],
      "authorship_tag": "ABX9TyMdrMSTiIw24vYd0CcLDaVi",
      "include_colab_link": true
    },
    "kernelspec": {
      "name": "python3",
      "display_name": "Python 3"
    },
    "language_info": {
      "name": "python"
    }
  },
  "cells": [
    {
      "cell_type": "markdown",
      "metadata": {
        "id": "view-in-github",
        "colab_type": "text"
      },
      "source": [
        "<a href=\"https://colab.research.google.com/github/OS37/CP1/blob/main/Multiplos_de_5_fibonacci.ipynb\" target=\"_parent\"><img src=\"https://colab.research.google.com/assets/colab-badge.svg\" alt=\"Open In Colab\"/></a>"
      ]
    },
    {
      "cell_type": "markdown",
      "source": [
        "Vamos a determinar todos los números de fibonacci que sean potencia de el número 5"
      ],
      "metadata": {
        "id": "BQ7olvioObvv"
      }
    },
    {
      "cell_type": "markdown",
      "source": [
        "Primero definimos una función que nos verifique si un número es multiplo de 5"
      ],
      "metadata": {
        "id": "tPBgdY_pQD8t"
      }
    },
    {
      "cell_type": "code",
      "source": [
        "def es_multiplo(n):\n",
        "    if (n)%5 == 0:      ##Aquí verificamos que el residuo de dividir el número n entre 5 es 0\n",
        "        return True\n",
        "    else:\n",
        "        return False\n",
        "es_multiplo(50), es_multiplo(33)\n"
      ],
      "metadata": {
        "colab": {
          "base_uri": "https://localhost:8080/"
        },
        "id": "j3kEQJ88O_Sl",
        "outputId": "e16fbbb3-89be-4607-fec8-f0aaf7f10881"
      },
      "execution_count": 9,
      "outputs": [
        {
          "output_type": "execute_result",
          "data": {
            "text/plain": [
              "(True, False)"
            ]
          },
          "metadata": {},
          "execution_count": 9
        }
      ]
    },
    {
      "cell_type": "markdown",
      "source": [
        "Ahora hacemos que la función unicamente nos regrese el número si es divisible entre 5 y si no que no nos regrese nada"
      ],
      "metadata": {
        "id": "TQ3-9OKwRleh"
      }
    },
    {
      "cell_type": "code",
      "source": [
        "def es_multiplo(n):\n",
        "    if (n)%5 == 0:  ##si el residuo es 0 nos regresa n\n",
        "        return (n)\n",
        "    else:     ###si el residuo no es 0 no nos regresa nada\n",
        "        pass\n",
        "es_multiplo(59),es_multiplo(5)\n",
        "c=es_multiplo(59)\n",
        "c"
      ],
      "metadata": {
        "id": "Z5C7SK6LQi19"
      },
      "execution_count": 14,
      "outputs": []
    },
    {
      "cell_type": "markdown",
      "source": [
        "Ahora metemos la función a otra función que nos brinda los números de fibonacci menores a un número n positivo"
      ],
      "metadata": {
        "id": "NfbtOqShSTQY"
      }
    },
    {
      "cell_type": "code",
      "execution_count": 30,
      "metadata": {
        "colab": {
          "base_uri": "https://localhost:8080/"
        },
        "id": "J3LgTvUnIhIE",
        "outputId": "3ccc4696-48da-4a53-fafd-9332f940220d"
      },
      "outputs": [
        {
          "output_type": "execute_result",
          "data": {
            "text/plain": [
              "[5, 55, 610, 6765, 75025, 832040, 9227465, 102334155, 1134903170]"
            ]
          },
          "metadata": {},
          "execution_count": 30
        }
      ],
      "source": [
        "def es_multiplo(n):\n",
        "    if (n)%5 == 0:  ##si el residuo es 0 nos regresa n\n",
        "        return (n)\n",
        "    else:     ###si el residuo no es 0 no nos regresa nada\n",
        "        pass\n",
        "\n",
        "def fib(n):\n",
        "    fibs=[]\n",
        "    a, b = 0, 1\n",
        "    while a < n:   ####empezamos a sacar todos los números de fibonacci\n",
        "        if es_multiplo(a):   ####condicionamos a el programa a que solo nos guarde los valores que son multiplos de 5\n",
        "            fibs.append(a)\n",
        "        a, b = b, a+b\n",
        "    return fibs\n",
        "\n",
        "fib(10**10)"
      ]
    }
  ]
}