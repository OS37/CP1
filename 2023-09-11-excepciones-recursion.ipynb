{
  "cells": [
    {
      "cell_type": "markdown",
      "metadata": {
        "id": "z551Ij7O4K00"
      },
      "source": [
        "Excepciones, recursión\n",
        "======================\n",
        "\n",
        "**Date:** 2023-09-11\n",
        "\n"
      ]
    },
    {
      "cell_type": "markdown",
      "metadata": {
        "id": "KrJ7H0lF4K01"
      },
      "source": [
        "## Excepciones\n",
        "\n"
      ]
    },
    {
      "cell_type": "markdown",
      "metadata": {
        "id": "UyV6sH9Z4K01"
      },
      "source": [
        "Cuando el programa encuentra una excepción, se interrumpe la ejecución y se emite un mensaje de error. Sin embargo, podemos hacer un manejo de excepciones (*exception handling*), si resulta conveniente no interrumpir la ejecución en caso de alguna excepción.\n",
        "\n"
      ]
    },
    {
      "cell_type": "code",
      "execution_count": null,
      "metadata": {
        "id": "xAlKWFWg4K02",
        "outputId": "96f89de0-8406-475f-d1d6-1884966d2408"
      },
      "outputs": [
        {
          "ename": "ZeroDivisionError",
          "evalue": "division by zero",
          "output_type": "error",
          "traceback": [
            "\u001b[0;31m---------------------------------------------------------------------------\u001b[0m",
            "\u001b[0;31mZeroDivisionError\u001b[0m                         Traceback (most recent call last)",
            "\u001b[0;32m<ipython-input-1-e574edb36883>\u001b[0m in \u001b[0;36m<module>\u001b[0;34m\u001b[0m\n\u001b[0;32m----> 1\u001b[0;31m \u001b[0;36m10\u001b[0m\u001b[0;34m/\u001b[0m\u001b[0;36m0\u001b[0m\u001b[0;34m\u001b[0m\u001b[0;34m\u001b[0m\u001b[0m\n\u001b[0m",
            "\u001b[0;31mZeroDivisionError\u001b[0m: division by zero"
          ]
        }
      ],
      "source": [
        "10/0"
      ]
    },
    {
      "cell_type": "code",
      "execution_count": null,
      "metadata": {
        "id": "s9IDkYVO4K03",
        "outputId": "7645515a-3136-453a-ffb2-004cad687c1e"
      },
      "outputs": [
        {
          "name": "stdout",
          "output_type": "stream",
          "text": [
            "Dividiste por cero\n",
            "No lo vuelvas a hacer\n",
            "Y así terminó todo\n"
          ]
        }
      ],
      "source": [
        "b = 0\n",
        "\n",
        "try:\n",
        "    x = 10/b\n",
        "    print(f\"El resultado es {x}\")\n",
        "except ZeroDivisionError:\n",
        "    print(\"Dividiste por cero\")\n",
        "    print(\"No lo vuelvas a hacer\")\n",
        "\n",
        "print(\"Y así terminó todo\")"
      ]
    },
    {
      "cell_type": "code",
      "execution_count": null,
      "metadata": {
        "id": "xKyqtijQ4K03",
        "outputId": "f383c20b-918d-4ade-9630-fb0e81193f52"
      },
      "outputs": [
        {
          "ename": "TypeError",
          "evalue": "unsupported operand type(s) for +: 'int' and 'str'",
          "output_type": "error",
          "traceback": [
            "\u001b[0;31m---------------------------------------------------------------------------\u001b[0m",
            "\u001b[0;31mTypeError\u001b[0m                                 Traceback (most recent call last)",
            "\u001b[0;32m<ipython-input-4-0df3d3d5a69f>\u001b[0m in \u001b[0;36m<module>\u001b[0;34m\u001b[0m\n\u001b[0;32m----> 1\u001b[0;31m \u001b[0;36m10\u001b[0m \u001b[0;34m+\u001b[0m \u001b[0;34m\"Hola \"\u001b[0m\u001b[0;34m\u001b[0m\u001b[0;34m\u001b[0m\u001b[0m\n\u001b[0m",
            "\u001b[0;31mTypeError\u001b[0m: unsupported operand type(s) for +: 'int' and 'str'"
          ]
        }
      ],
      "source": [
        "10 + \"Hola \""
      ]
    },
    {
      "cell_type": "code",
      "execution_count": null,
      "metadata": {
        "id": "ykyg4NjI4K04",
        "outputId": "a05397c0-7a7b-4850-91b5-5bfa40c068e4"
      },
      "outputs": [
        {
          "data": {
            "text/plain": [
              "('Hola mundo',\n",
              " '¡Seguramente no me diste una cadena!',\n",
              " '¡Seguramente no me diste una cadena!')"
            ]
          },
          "execution_count": 5,
          "metadata": {},
          "output_type": "execute_result"
        }
      ],
      "source": [
        "def concatena(cadena):\n",
        "    try:\n",
        "        resultado = \"Hola \" + cadena\n",
        "    except TypeError:\n",
        "        resultado = \"¡Seguramente no me diste una cadena!\"\n",
        "    return resultado\n",
        "\n",
        "concatena(\"mundo\"), concatena(20), concatena([1, 2])"
      ]
    },
    {
      "cell_type": "code",
      "execution_count": null,
      "metadata": {
        "id": "1NxDTOCd4K04",
        "outputId": "c822c39c-8d68-4f63-d256-3ba991811cf1"
      },
      "outputs": [
        {
          "data": {
            "text/plain": [
              "'Dividiste entre cero'"
            ]
          },
          "execution_count": 6,
          "metadata": {},
          "output_type": "execute_result"
        }
      ],
      "source": [
        "def division(número):\n",
        "    try:\n",
        "        return 10/número\n",
        "    except ZeroDivisionError:\n",
        "        return \"Dividiste entre cero\"\n",
        "\n",
        "division(0)"
      ]
    },
    {
      "cell_type": "code",
      "execution_count": null,
      "metadata": {
        "id": "IOs27f8i4K05",
        "outputId": "feecfd33-3d85-44a1-92c9-24bb65dcbf1e"
      },
      "outputs": [
        {
          "ename": "NoDividasPorCero",
          "evalue": "El valor del argumento que diste es 0",
          "output_type": "error",
          "traceback": [
            "\u001b[0;31m---------------------------------------------------------------------------\u001b[0m",
            "\u001b[0;31mZeroDivisionError\u001b[0m                         Traceback (most recent call last)",
            "\u001b[0;32m<ipython-input-8-bedb0a5efbb4>\u001b[0m in \u001b[0;36mdivision\u001b[0;34m(número)\u001b[0m\n\u001b[1;32m      5\u001b[0m     \u001b[0;32mtry\u001b[0m\u001b[0;34m:\u001b[0m\u001b[0;34m\u001b[0m\u001b[0;34m\u001b[0m\u001b[0m\n\u001b[0;32m----> 6\u001b[0;31m         \u001b[0;32mreturn\u001b[0m \u001b[0;36m10\u001b[0m\u001b[0;34m/\u001b[0m\u001b[0mnúmero\u001b[0m\u001b[0;34m\u001b[0m\u001b[0;34m\u001b[0m\u001b[0m\n\u001b[0m\u001b[1;32m      7\u001b[0m     \u001b[0;32mexcept\u001b[0m \u001b[0mZeroDivisionError\u001b[0m\u001b[0;34m:\u001b[0m\u001b[0;34m\u001b[0m\u001b[0;34m\u001b[0m\u001b[0m\n",
            "\u001b[0;31mZeroDivisionError\u001b[0m: division by zero",
            "\nDuring handling of the above exception, another exception occurred:\n",
            "\u001b[0;31mNoDividasPorCero\u001b[0m                          Traceback (most recent call last)",
            "\u001b[0;32m<ipython-input-8-bedb0a5efbb4>\u001b[0m in \u001b[0;36m<module>\u001b[0;34m\u001b[0m\n\u001b[1;32m      8\u001b[0m         \u001b[0;32mraise\u001b[0m \u001b[0mNoDividasPorCero\u001b[0m\u001b[0;34m(\u001b[0m\u001b[0;34mf\"El valor del argumento que diste es {número}\"\u001b[0m\u001b[0;34m)\u001b[0m\u001b[0;34m\u001b[0m\u001b[0;34m\u001b[0m\u001b[0m\n\u001b[1;32m      9\u001b[0m \u001b[0;34m\u001b[0m\u001b[0m\n\u001b[0;32m---> 10\u001b[0;31m \u001b[0mdivision\u001b[0m\u001b[0;34m(\u001b[0m\u001b[0;36m5\u001b[0m\u001b[0;34m-\u001b[0m\u001b[0;36m5\u001b[0m\u001b[0;34m)\u001b[0m\u001b[0;34m\u001b[0m\u001b[0;34m\u001b[0m\u001b[0m\n\u001b[0m",
            "\u001b[0;32m<ipython-input-8-bedb0a5efbb4>\u001b[0m in \u001b[0;36mdivision\u001b[0;34m(número)\u001b[0m\n\u001b[1;32m      6\u001b[0m         \u001b[0;32mreturn\u001b[0m \u001b[0;36m10\u001b[0m\u001b[0;34m/\u001b[0m\u001b[0mnúmero\u001b[0m\u001b[0;34m\u001b[0m\u001b[0;34m\u001b[0m\u001b[0m\n\u001b[1;32m      7\u001b[0m     \u001b[0;32mexcept\u001b[0m \u001b[0mZeroDivisionError\u001b[0m\u001b[0;34m:\u001b[0m\u001b[0;34m\u001b[0m\u001b[0;34m\u001b[0m\u001b[0m\n\u001b[0;32m----> 8\u001b[0;31m         \u001b[0;32mraise\u001b[0m \u001b[0mNoDividasPorCero\u001b[0m\u001b[0;34m(\u001b[0m\u001b[0;34mf\"El valor del argumento que diste es {número}\"\u001b[0m\u001b[0;34m)\u001b[0m\u001b[0;34m\u001b[0m\u001b[0;34m\u001b[0m\u001b[0m\n\u001b[0m\u001b[1;32m      9\u001b[0m \u001b[0;34m\u001b[0m\u001b[0m\n\u001b[1;32m     10\u001b[0m \u001b[0mdivision\u001b[0m\u001b[0;34m(\u001b[0m\u001b[0;36m5\u001b[0m\u001b[0;34m-\u001b[0m\u001b[0;36m5\u001b[0m\u001b[0;34m)\u001b[0m\u001b[0;34m\u001b[0m\u001b[0;34m\u001b[0m\u001b[0m\n",
            "\u001b[0;31mNoDividasPorCero\u001b[0m: El valor del argumento que diste es 0"
          ]
        }
      ],
      "source": [
        "class NoDividasPorCero(Exception):\n",
        "    pass\n",
        "\n",
        "def division(número):\n",
        "    try:\n",
        "        return 10/número\n",
        "    except ZeroDivisionError:\n",
        "        raise NoDividasPorCero(f\"El valor del argumento que diste es {número}\")\n",
        "\n",
        "division(5-5)"
      ]
    },
    {
      "cell_type": "code",
      "execution_count": null,
      "metadata": {
        "id": "Oz4Wq4904K06",
        "outputId": "e1fcc429-b560-4a8d-aa36-909ec7e34d4e"
      },
      "outputs": [
        {
          "ename": "NoDividasPorCero",
          "evalue": "Trataste de dividir entre cero",
          "output_type": "error",
          "traceback": [
            "\u001b[0;31m---------------------------------------------------------------------------\u001b[0m",
            "\u001b[0;31mZeroDivisionError\u001b[0m                         Traceback (most recent call last)",
            "\u001b[0;32m<ipython-input-9-36215f80e102>\u001b[0m in \u001b[0;36mdivision\u001b[0;34m(número)\u001b[0m\n\u001b[1;32m      7\u001b[0m     \u001b[0;32mtry\u001b[0m\u001b[0;34m:\u001b[0m\u001b[0;34m\u001b[0m\u001b[0;34m\u001b[0m\u001b[0m\n\u001b[0;32m----> 8\u001b[0;31m         \u001b[0;32mreturn\u001b[0m \u001b[0;36m10\u001b[0m\u001b[0;34m/\u001b[0m\u001b[0mnúmero\u001b[0m\u001b[0;34m\u001b[0m\u001b[0;34m\u001b[0m\u001b[0m\n\u001b[0m\u001b[1;32m      9\u001b[0m     \u001b[0;32mexcept\u001b[0m \u001b[0mZeroDivisionError\u001b[0m\u001b[0;34m:\u001b[0m\u001b[0;34m\u001b[0m\u001b[0;34m\u001b[0m\u001b[0m\n",
            "\u001b[0;31mZeroDivisionError\u001b[0m: division by zero",
            "\nDuring handling of the above exception, another exception occurred:\n",
            "\u001b[0;31mNoDividasPorCero\u001b[0m                          Traceback (most recent call last)",
            "\u001b[0;32m<ipython-input-9-36215f80e102>\u001b[0m in \u001b[0;36m<module>\u001b[0;34m\u001b[0m\n\u001b[1;32m     10\u001b[0m         \u001b[0;32mraise\u001b[0m \u001b[0mNoDividasPorCero\u001b[0m\u001b[0;34m\u001b[0m\u001b[0;34m\u001b[0m\u001b[0m\n\u001b[1;32m     11\u001b[0m \u001b[0;34m\u001b[0m\u001b[0m\n\u001b[0;32m---> 12\u001b[0;31m \u001b[0mdivision\u001b[0m\u001b[0;34m(\u001b[0m\u001b[0;36m0\u001b[0m\u001b[0;34m)\u001b[0m\u001b[0;34m\u001b[0m\u001b[0;34m\u001b[0m\u001b[0m\n\u001b[0m",
            "\u001b[0;32m<ipython-input-9-36215f80e102>\u001b[0m in \u001b[0;36mdivision\u001b[0;34m(número)\u001b[0m\n\u001b[1;32m      8\u001b[0m         \u001b[0;32mreturn\u001b[0m \u001b[0;36m10\u001b[0m\u001b[0;34m/\u001b[0m\u001b[0mnúmero\u001b[0m\u001b[0;34m\u001b[0m\u001b[0;34m\u001b[0m\u001b[0m\n\u001b[1;32m      9\u001b[0m     \u001b[0;32mexcept\u001b[0m \u001b[0mZeroDivisionError\u001b[0m\u001b[0;34m:\u001b[0m\u001b[0;34m\u001b[0m\u001b[0;34m\u001b[0m\u001b[0m\n\u001b[0;32m---> 10\u001b[0;31m         \u001b[0;32mraise\u001b[0m \u001b[0mNoDividasPorCero\u001b[0m\u001b[0;34m\u001b[0m\u001b[0;34m\u001b[0m\u001b[0m\n\u001b[0m\u001b[1;32m     11\u001b[0m \u001b[0;34m\u001b[0m\u001b[0m\n\u001b[1;32m     12\u001b[0m \u001b[0mdivision\u001b[0m\u001b[0;34m(\u001b[0m\u001b[0;36m0\u001b[0m\u001b[0;34m)\u001b[0m\u001b[0;34m\u001b[0m\u001b[0;34m\u001b[0m\u001b[0m\n",
            "\u001b[0;31mNoDividasPorCero\u001b[0m: Trataste de dividir entre cero"
          ]
        }
      ],
      "source": [
        "class NoDividasPorCero(Exception):\n",
        "    def __init__(self, mensaje=\"Trataste de dividir entre cero\"):\n",
        "        super().__init__(mensaje)\n",
        "\n",
        "\n",
        "def division(número):\n",
        "    try:\n",
        "        return 10/número\n",
        "    except ZeroDivisionError:\n",
        "        raise NoDividasPorCero\n",
        "\n",
        "division(0)"
      ]
    },
    {
      "cell_type": "markdown",
      "metadata": {
        "id": "w1T7fE0s4K06"
      },
      "source": [
        "También se podría hacer una función parecida de la siguiente forma, sin embargo, es más adecuado a la filosofía de Python hacerlo usando `try`, `except`.\n",
        "\n"
      ]
    },
    {
      "cell_type": "code",
      "execution_count": null,
      "metadata": {
        "id": "b8FVk71l4K07"
      },
      "outputs": [],
      "source": [
        "def division(número):\n",
        "    if número == 0:\n",
        "        raise NoDividasPorCero\n",
        "    else:\n",
        "        return 10/número\n",
        "\n",
        "division(0)"
      ]
    },
    {
      "cell_type": "markdown",
      "metadata": {
        "id": "yIK3Xe2r4K07"
      },
      "source": [
        "## Recursión\n",
        "\n"
      ]
    },
    {
      "cell_type": "markdown",
      "metadata": {
        "id": "YT2HzndI4K07"
      },
      "source": [
        "Recursión se refiere usar una función dentro de su misma definición.\n",
        "\n"
      ]
    },
    {
      "cell_type": "code",
      "execution_count": null,
      "metadata": {
        "id": "EF5K_Cvg4K08",
        "outputId": "8476b076-edaa-496b-a429-bacfe50c5f7a"
      },
      "outputs": [
        {
          "data": {
            "text/plain": [
              "[0, 1, 1, 2, 3, 5, 8, 13, 21, 34, 55, 89, 144, 233, 377, 610, 987, 1597, 2584]"
            ]
          },
          "execution_count": 10,
          "metadata": {},
          "output_type": "execute_result"
        }
      ],
      "source": [
        "def fibonacci(n):\n",
        "    \"Regresa el n-ésimo número de Fibonacci\"\n",
        "    if n == 1:\n",
        "        return 0\n",
        "    elif n == 2:\n",
        "        return 1\n",
        "    else:\n",
        "        return fibonacci(n-1) + fibonacci(n-2)\n",
        "\n",
        "[fibonacci(n) for n in range(1, 20)]"
      ]
    },
    {
      "cell_type": "markdown",
      "metadata": {
        "id": "brrihR8o4K08"
      },
      "source": [
        "Por ejemplo, en nuestra definición de números complejos.\n",
        "\n"
      ]
    },
    {
      "cell_type": "code",
      "execution_count": null,
      "metadata": {
        "id": "le7NGL4h4K08",
        "outputId": "894c965d-1e52-4878-a2ea-4e3ba089fc6b"
      },
      "outputs": [
        {
          "ename": "NameError",
          "evalue": "name 'Complejo' is not defined",
          "output_type": "error",
          "traceback": [
            "\u001b[0;31m---------------------------------------------------------------------------\u001b[0m",
            "\u001b[0;31mNameError\u001b[0m                                 Traceback (most recent call last)",
            "\u001b[0;32m<ipython-input-11-5a4e3575db8d>\u001b[0m in \u001b[0;36m<module>\u001b[0;34m\u001b[0m\n\u001b[1;32m      7\u001b[0m         \u001b[0;32mreturn\u001b[0m \u001b[0mpotencia\u001b[0m\u001b[0;34m(\u001b[0m\u001b[0mz\u001b[0m\u001b[0;34m,\u001b[0m \u001b[0mn\u001b[0m\u001b[0;34m-\u001b[0m\u001b[0;36m1\u001b[0m\u001b[0;34m)\u001b[0m\u001b[0;34m*\u001b[0m\u001b[0mz\u001b[0m\u001b[0;34m\u001b[0m\u001b[0;34m\u001b[0m\u001b[0m\n\u001b[1;32m      8\u001b[0m \u001b[0;34m\u001b[0m\u001b[0m\n\u001b[0;32m----> 9\u001b[0;31m \u001b[0mz\u001b[0m \u001b[0;34m=\u001b[0m \u001b[0mComplejo\u001b[0m\u001b[0;34m(\u001b[0m\u001b[0;36m1\u001b[0m\u001b[0;34m,\u001b[0m \u001b[0;34m-\u001b[0m\u001b[0;36m2\u001b[0m\u001b[0;34m)\u001b[0m\u001b[0;34m\u001b[0m\u001b[0;34m\u001b[0m\u001b[0m\n\u001b[0m\u001b[1;32m     10\u001b[0m \u001b[0mpotencia\u001b[0m\u001b[0;34m(\u001b[0m\u001b[0mz\u001b[0m\u001b[0;34m,\u001b[0m \u001b[0;36m0\u001b[0m\u001b[0;34m)\u001b[0m\u001b[0;34m,\u001b[0m \u001b[0mz\u001b[0m\u001b[0;34m*\u001b[0m\u001b[0mz\u001b[0m\u001b[0;34m*\u001b[0m\u001b[0mz\u001b[0m\u001b[0;34m\u001b[0m\u001b[0;34m\u001b[0m\u001b[0m\n",
            "\u001b[0;31mNameError\u001b[0m: name 'Complejo' is not defined"
          ]
        }
      ],
      "source": [
        "def potencia(z, n):\n",
        "    if n == 0:\n",
        "        return 1\n",
        "    elif n == 1:\n",
        "        return z\n",
        "    else:\n",
        "        return potencia(z, n-1)*z\n",
        "\n",
        "z = Complejo(1, -2)\n",
        "potencia(z, 0), z*z*z"
      ]
    },
    {
      "cell_type": "markdown",
      "metadata": {
        "id": "CWujAu9k4K09"
      },
      "source": [
        "## Más sobre los números complejos\n",
        "\n"
      ]
    },
    {
      "cell_type": "markdown",
      "metadata": {
        "id": "ifvMPzf94K09"
      },
      "source": [
        "(Ver *The Python Language Reference*, 3.3.8 Emulating numeric types)\n",
        "\n"
      ]
    },
    {
      "cell_type": "code",
      "execution_count": null,
      "metadata": {
        "id": "_IDGBJCM4K09",
        "outputId": "46c90d31-7b90-49cc-eaca-d3ceed35a0ee"
      },
      "outputs": [
        {
          "data": {
            "text/plain": [
              "(Complejo(2, 1), Complejo(2/5, 1/5), Complejo(-1/10, -7/10))"
            ]
          },
          "execution_count": 13,
          "metadata": {},
          "output_type": "execute_result"
        }
      ],
      "source": [
        "from sympy import sqrt\n",
        "\n",
        "class Complejo:\n",
        "    def __init__(self, parte_real, parte_imaginaria):\n",
        "        self.r = parte_real\n",
        "        self.i = parte_imaginaria\n",
        "\n",
        "    def __repr__(self):\n",
        "        return f\"Complejo({self.r}, {self.i})\"\n",
        "\n",
        "    def __add__(self, other):\n",
        "        return Complejo(self.r + other.r, self.i + other.i)\n",
        "\n",
        "    def __sub__(self, other):\n",
        "        return Complejo(self.r - other.r, self.i - other.i)\n",
        "\n",
        "    def __mul__(self, other):\n",
        "        try:\n",
        "            return Complejo(self.r*other.r - self.i*other.i, self.r*other.i + self.i*other.r)\n",
        "        except AttributeError:\n",
        "            return Complejo(self.r*other, self.i*other)\n",
        "\n",
        "    def __rmul__(self, other):\n",
        "        \"\"\"\"Definición de 2*z para un complejo z\"\"\"\n",
        "        return Complejo(self.r*other, self.i*other)\n",
        "\n",
        "    def __truediv__(self, other):\n",
        "        try:\n",
        "            return self*other.inverso()\n",
        "        except AttributeError:\n",
        "            return Complejo(self.r/other, self.i/other)\n",
        "\n",
        "    def __pow__(self, n):\n",
        "        if n == 0:\n",
        "            return 1\n",
        "        elif n>0:\n",
        "            return (self**(n-1))*self\n",
        "        else:\n",
        "            return (self**(-n)).inverso()\n",
        "\n",
        "    def conjugado(self):\n",
        "        return Complejo(self.r, -self.i)\n",
        "\n",
        "    def inverso(self):\n",
        "        return (1/self.módulo()**2)*self.conjugado()\n",
        "\n",
        "    def módulo(self):\n",
        "        return sqrt(self.r**2+self.i**2)\n",
        "\n",
        "z = Complejo(2, -1)\n",
        "w = Complejo(1, 3)\n",
        "z*w, w*z\n",
        "z.conjugado(), z.inverso(), z/w"
      ]
    },
    {
      "cell_type": "code",
      "execution_count": null,
      "metadata": {
        "id": "z9FqMiPr4K09",
        "outputId": "9aa49422-f3c2-4c00-91f9-614efbd979f3"
      },
      "outputs": [
        {
          "data": {
            "text/plain": [
              "(Complejo(2/125, 11/125), Complejo(2, -11))"
            ]
          },
          "execution_count": 14,
          "metadata": {},
          "output_type": "execute_result"
        }
      ],
      "source": [
        "z**(-3), z*z*z"
      ]
    },
    {
      "cell_type": "code",
      "execution_count": null,
      "metadata": {
        "id": "wNlxZpnH4K0-",
        "outputId": "377a0f32-cf73-4cf6-fdf0-31061b5f30bf"
      },
      "outputs": [
        {
          "data": {
            "text/plain": [
              "Complejo(-1/10, -7/10)"
            ]
          },
          "execution_count": 15,
          "metadata": {},
          "output_type": "execute_result"
        }
      ],
      "source": [
        "z/w"
      ]
    },
    {
      "cell_type": "code",
      "execution_count": null,
      "metadata": {
        "id": "oDspX4Mu4K0-",
        "outputId": "f7129104-4e4e-4b72-bed2-da6f37a4ad8d"
      },
      "outputs": [
        {
          "ename": "TypeError",
          "evalue": "unsupported operand type(s) for /: 'int' and 'Complejo'",
          "output_type": "error",
          "traceback": [
            "\u001b[0;31m---------------------------------------------------------------------------\u001b[0m",
            "\u001b[0;31mTypeError\u001b[0m                                 Traceback (most recent call last)",
            "\u001b[0;32m<ipython-input-19-6427dc4abda7>\u001b[0m in \u001b[0;36m<module>\u001b[0;34m\u001b[0m\n\u001b[0;32m----> 1\u001b[0;31m \u001b[0mz\u001b[0m\u001b[0;34m,\u001b[0m \u001b[0;36m1.2\u001b[0m\u001b[0;34m*\u001b[0m\u001b[0mz\u001b[0m\u001b[0;34m,\u001b[0m \u001b[0mz\u001b[0m\u001b[0;34m*\u001b[0m\u001b[0;36m1.2\u001b[0m\u001b[0;34m,\u001b[0m \u001b[0mz\u001b[0m\u001b[0;34m/\u001b[0m\u001b[0;36m2\u001b[0m\u001b[0;34m,\u001b[0m \u001b[0;36m2\u001b[0m\u001b[0;34m/\u001b[0m\u001b[0mz\u001b[0m\u001b[0;34m\u001b[0m\u001b[0;34m\u001b[0m\u001b[0m\n\u001b[0m",
            "\u001b[0;31mTypeError\u001b[0m: unsupported operand type(s) for /: 'int' and 'Complejo'"
          ]
        }
      ],
      "source": [
        "z, 1.2*z, z*1.2, z/2, 2/z"
      ]
    },
    {
      "cell_type": "code",
      "execution_count": null,
      "metadata": {
        "id": "gJgYa5eQ4K0-",
        "outputId": "6fceeb09-c500-4dac-e661-ec65bc9951dc"
      },
      "outputs": [
        {
          "data": {
            "text/plain": [
              "Complejo(nan, nan)"
            ]
          },
          "execution_count": 20,
          "metadata": {},
          "output_type": "execute_result"
        }
      ],
      "source": [
        "Complejo(1,1)/Complejo(0,0)"
      ]
    },
    {
      "cell_type": "code",
      "execution_count": null,
      "metadata": {
        "id": "aNl8j6JQ4K0-",
        "outputId": "5aa5f497-7292-4f02-a983-5b604a272ca7"
      },
      "outputs": [
        {
          "data": {
            "text/plain": [
              "Complejo(nan, nan)"
            ]
          },
          "execution_count": 21,
          "metadata": {},
          "output_type": "execute_result"
        }
      ],
      "source": [
        "Complejo(0, 0).inverso()"
      ]
    },
    {
      "cell_type": "code",
      "execution_count": null,
      "metadata": {
        "id": "9G47aQQ_4K0_",
        "outputId": "bbf99fce-aa18-4c2c-f277-e2d3be4af34e"
      },
      "outputs": [
        {
          "data": {
            "text/plain": [
              "(sympy.core.numbers.ComplexInfinity, zoo, nan, zoo)"
            ]
          },
          "execution_count": 22,
          "metadata": {},
          "output_type": "execute_result"
        }
      ],
      "source": [
        "z = Complejo(0, 0)\n",
        "a = 1/z.módulo()\n",
        "type(a), a, a*0, a*1"
      ]
    },
    {
      "cell_type": "code",
      "execution_count": null,
      "metadata": {
        "id": "bBD9ybJl4K0_",
        "outputId": "715f8863-979c-4d17-fb80-900eb56bb685"
      },
      "outputs": [
        {
          "data": {
            "text/plain": [
              "(nan, 1)"
            ]
          },
          "execution_count": 31,
          "metadata": {},
          "output_type": "execute_result"
        }
      ],
      "source": [
        "0*(1/z.módulo()), 1"
      ]
    },
    {
      "cell_type": "code",
      "execution_count": null,
      "metadata": {
        "id": "3_3PvtzE4K0_",
        "outputId": "874f807c-8bf5-4818-ec8d-e44c91aea702"
      },
      "outputs": [
        {
          "data": {
            "text/plain": [
              "(pi/2, 1)"
            ]
          },
          "execution_count": 35,
          "metadata": {},
          "output_type": "execute_result"
        }
      ],
      "source": [
        "from sympy import atan2\n",
        "\n",
        "\n",
        "atan2(1, 0), 1\n"
      ]
    },
    {
      "cell_type": "markdown",
      "metadata": {
        "id": "gxKyOvcj4K0_"
      },
      "source": [
        "## Tarea\n",
        "\n"
      ]
    },
    {
      "cell_type": "markdown",
      "metadata": {
        "id": "055G3OcU4K0_"
      },
      "source": [
        "TAREA: Implementar un método para el argumento de números complejos\n",
        "Definir una excepción para cuando se pretenda sacar el inverso del complejo `Complejo(0,0)`, por lo tanto, cuando se divida entre `Complejo(0,0)`.\n",
        "\n"
      ]
    },
    {
      "cell_type": "markdown",
      "metadata": {
        "id": "wt1W00G74K1A"
      },
      "source": [
        "## TAREA\n",
        "\n"
      ]
    },
    {
      "cell_type": "markdown",
      "metadata": {
        "id": "c0uPJWi24K1A"
      },
      "source": [
        "Implementar un método para obtener la forma polar de un complejo. Usarlo, para implementar un método que saque una raíz cuadrada de un complejo.\n",
        "\n"
      ]
    }
  ],
  "metadata": {
    "kernelspec": {
      "display_name": "Python 3",
      "language": "python",
      "name": "python3"
    },
    "language_info": {
      "codemirror_mode": {
        "name": "ipython",
        "version": 3
      },
      "file_extension": ".py",
      "mimetype": "text/x-python",
      "name": "python",
      "nbconvert_exporter": "python",
      "pygments_lexer": "ipython3",
      "version": "3.9.2"
    },
    "org": null,
    "colab": {
      "provenance": []
    }
  },
  "nbformat": 4,
  "nbformat_minor": 0
}