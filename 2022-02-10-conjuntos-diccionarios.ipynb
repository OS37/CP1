{
  "cells": [
    {
      "cell_type": "markdown",
      "metadata": {
        "id": "TTumfruH48qf"
      },
      "source": [
        "Conjuntos y diccionarios\n",
        "========================\n",
        "\n",
        "**Date:** <2022-02-10 Thu>\n",
        "\n"
      ]
    },
    {
      "cell_type": "markdown",
      "metadata": {
        "id": "QvOyMlhz48qg"
      },
      "source": [
        "## Conjuntos\n",
        "\n"
      ]
    },
    {
      "cell_type": "markdown",
      "metadata": {
        "id": "VEtAtk4v48qh"
      },
      "source": [
        "Un conjunto es una estructura de datos parecida a la lista (en el sentido de que es una colección de objetos), pero en donde no importa el orden y no puede haber elementos repetidos.\n",
        "\n"
      ]
    },
    {
      "cell_type": "code",
      "execution_count": null,
      "metadata": {
        "id": "bUam1RUZ48qh"
      },
      "outputs": [],
      "source": [
        "conjunto = {3, 5, 6, 12, 3}\n",
        "conjunto"
      ]
    },
    {
      "cell_type": "code",
      "execution_count": null,
      "metadata": {
        "id": "hft3GR1_48qi"
      },
      "outputs": [],
      "source": [
        "conjunto2 = {\"Hola\", 4, 4.111}\n",
        "conjunto2"
      ]
    },
    {
      "cell_type": "code",
      "execution_count": null,
      "metadata": {
        "id": "Q5YgA9Ql48qi"
      },
      "outputs": [],
      "source": [
        "4 in conjunto, 4 in conjunto2"
      ]
    },
    {
      "cell_type": "markdown",
      "metadata": {
        "id": "IXAbqyVg48qj"
      },
      "source": [
        "Los conjuntos tienen un método que se llama `union`. Sin embargo el método `union` a diferencia del método `append` de las listas, no cambia el objeto al que se le aplica, si no que se comporta como una función. La palabra oficial es que `append` se manifiesta *in place*.\n",
        "\n"
      ]
    },
    {
      "cell_type": "code",
      "execution_count": null,
      "metadata": {
        "id": "ScXQC5pI48qj"
      },
      "outputs": [],
      "source": [
        "conjunto3 = conjunto.union(conjunto2)\n",
        "conjunto3"
      ]
    },
    {
      "cell_type": "code",
      "execution_count": null,
      "metadata": {
        "id": "4SDMFWVZ48qk"
      },
      "outputs": [],
      "source": [
        "conjunto4 = conjunto3.intersection({1,2,3,4})\n",
        "conjunto4"
      ]
    },
    {
      "cell_type": "markdown",
      "metadata": {
        "id": "nrVfY4g148ql"
      },
      "source": [
        "Una lista se puede convertir en un conjunto por medio de la función `set`. Un conjunto se puede convertir en una lista por medio de la función `list`.\n",
        "\n"
      ]
    },
    {
      "cell_type": "code",
      "execution_count": null,
      "metadata": {
        "id": "wuWTfjq148ql"
      },
      "outputs": [],
      "source": [
        "inscritos = [\"Juan Diego\", \"Verania\", \"Rosa\", \"Yessica\", \"Karen\"]\n",
        "oyentes = [\"Uriel\", \"Ruth\"]\n",
        "estudiantes = inscritos + oyentes\n",
        "estudiantes"
      ]
    },
    {
      "cell_type": "code",
      "execution_count": null,
      "metadata": {
        "id": "OYpIAOgk48qm"
      },
      "outputs": [],
      "source": [
        "est_conjunto = set(estudiantes)\n",
        "est_conjunto"
      ]
    },
    {
      "cell_type": "code",
      "execution_count": null,
      "metadata": {
        "id": "UGPO9t1n48qm"
      },
      "outputs": [],
      "source": [
        "lista_est = list(est_conjunto)\n",
        "lista_est"
      ]
    },
    {
      "cell_type": "markdown",
      "metadata": {
        "id": "KAUu4d_848qm"
      },
      "source": [
        "## Diccionarios\n",
        "\n"
      ]
    },
    {
      "cell_type": "markdown",
      "metadata": {
        "id": "dSe-xcfF48qm"
      },
      "source": [
        "Supongamos que voy a guardar las calificaciones de las estudiantes. Karen, Rosa, Verania, Yessica. Podríamos incluirlas en una lista, pero entonces debemos recordar el orden.\n",
        "\n"
      ]
    },
    {
      "cell_type": "code",
      "execution_count": null,
      "metadata": {
        "id": "ZOigyzy848qn"
      },
      "outputs": [],
      "source": [
        "calificaciones = [9, 8.9, 7, 8]"
      ]
    },
    {
      "cell_type": "markdown",
      "metadata": {
        "id": "Cc_fI6dv48qn"
      },
      "source": [
        "Un diccionario es una estructura de datos más apropiada.\n",
        "\n"
      ]
    },
    {
      "cell_type": "code",
      "execution_count": null,
      "metadata": {
        "id": "SFhCmklr48qn"
      },
      "outputs": [],
      "source": [
        "calificaciones = {\"Karen\":8, \"Rosa\":8.9, \"Verania\":7, \"Yessica\": 8}\n",
        "calificaciones"
      ]
    },
    {
      "cell_type": "code",
      "execution_count": null,
      "metadata": {
        "id": "m5ey1TUg48qo"
      },
      "outputs": [],
      "source": [
        "calificaciones[\"Verania\"]"
      ]
    },
    {
      "cell_type": "markdown",
      "metadata": {
        "id": "RfQEFFR048qo"
      },
      "source": [
        "Nuevas entradas se pueden asignar:\n",
        "\n"
      ]
    },
    {
      "cell_type": "code",
      "execution_count": null,
      "metadata": {
        "id": "DH94sORm48qo"
      },
      "outputs": [],
      "source": [
        "calificaciones[\"Juan Diego\"] = 10\n",
        "calificaciones"
      ]
    },
    {
      "cell_type": "code",
      "execution_count": null,
      "metadata": {
        "id": "B_O2R-eA48qo"
      },
      "outputs": [],
      "source": [
        "llaves = calificaciones.keys()\n",
        "lista_llaves = list(llaves)\n",
        "lista_llaves"
      ]
    },
    {
      "cell_type": "code",
      "execution_count": null,
      "metadata": {
        "id": "FfOK8JGb48qo"
      },
      "outputs": [],
      "source": [
        "valores = calificaciones.values()\n",
        "valores"
      ]
    }
  ],
  "metadata": {
    "kernelspec": {
      "display_name": "Python 3",
      "language": "python",
      "name": "python3"
    },
    "language_info": {
      "codemirror_mode": {
        "name": "ipython",
        "version": 3
      },
      "file_extension": ".py",
      "mimetype": "text/x-python",
      "name": "python",
      "nbconvert_exporter": "python",
      "pygments_lexer": "ipython3",
      "version": "3.9.2"
    },
    "org": null,
    "colab": {
      "provenance": []
    }
  },
  "nbformat": 4,
  "nbformat_minor": 0
}